{
  "nbformat": 4,
  "nbformat_minor": 0,
  "metadata": {
    "colab": {
      "provenance": [],
      "gpuType": "T4",
      "include_colab_link": true
    },
    "kernelspec": {
      "name": "python3",
      "display_name": "Python 3"
    },
    "language_info": {
      "name": "python"
    },
    "accelerator": "GPU"
  },
  "cells": [
    {
      "cell_type": "markdown",
      "metadata": {
        "id": "view-in-github",
        "colab_type": "text"
      },
      "source": [
        "<a href=\"https://colab.research.google.com/github/afonsofarias/Arduino---Semaforo/blob/main/Processamento_de_linguagem_natural_utilizando_pouco_c%C3%B3digo_e_IA.ipynb\" target=\"_parent\"><img src=\"https://colab.research.google.com/assets/colab-badge.svg\" alt=\"Open In Colab\"/></a>"
      ]
    },
    {
      "cell_type": "markdown",
      "source": [
        "# Instalando bibliotecas"
      ],
      "metadata": {
        "id": "CxwjdmBk1AQE"
      }
    },
    {
      "cell_type": "code",
      "source": [
        "!pip install -q transformers==4.35.2"
      ],
      "metadata": {
        "id": "0DpQRyjSge2x",
        "colab": {
          "base_uri": "https://localhost:8080/"
        },
        "outputId": "0dacb1e7-30b2-4e6d-9eda-8c73141b5e7e"
      },
      "execution_count": null,
      "outputs": [
        {
          "output_type": "stream",
          "name": "stdout",
          "text": [
            "\u001b[2K     \u001b[90m━━━━━━━━━━━━━━━━━━━━━━━━━━━━━━━━━━━━━━━━\u001b[0m \u001b[32m7.9/7.9 MB\u001b[0m \u001b[31m27.1 MB/s\u001b[0m eta \u001b[36m0:00:00\u001b[0m\n",
            "\u001b[?25h"
          ]
        }
      ]
    },
    {
      "cell_type": "markdown",
      "source": [
        "`transformers`: A biblioteca transformers, desenvolvida pela Hugging Face, fornece modelos de PLN de ponta, como BERT e GPT-3. Esses modelos são pré-treinados em grandes volumes de texto e podem ser ajustados para tarefas específicas de PLN.\n",
        "\n",
        "https://huggingface.co/"
      ],
      "metadata": {
        "id": "U_o2SBRD1nTy"
      }
    },
    {
      "cell_type": "markdown",
      "source": [
        "# Importando as bibliotecas"
      ],
      "metadata": {
        "id": "_bdTC9dQfqtQ"
      }
    },
    {
      "cell_type": "code",
      "execution_count": null,
      "metadata": {
        "id": "EprNI9DZe2e0"
      },
      "outputs": [],
      "source": [
        "from transformers import pipeline\n",
        "import torch"
      ]
    },
    {
      "cell_type": "markdown",
      "source": [
        "O módulo `pipeline` da biblioteca transformers simplifica o processo de uso de modelos pré-treinados para tarefas específicas de PLN. Ele fornece uma interface simples e conveniente para realizar inferências de texto usando modelos como os disponíveis na Hugging Face, abstraindo grande parte da complexidade do código subjacente.\n",
        "\n",
        "A biblioteca `torch` será utilizada no código apenas para verificar se a GPU está disponível no ambiente para processamento mais rápido."
      ],
      "metadata": {
        "id": "kI4C2nZo2HHq"
      }
    },
    {
      "cell_type": "markdown",
      "source": [
        "# Carregando o modelo"
      ],
      "metadata": {
        "id": "ylfcbznaftpR"
      }
    },
    {
      "cell_type": "code",
      "source": [
        "device = \"cuda\" if torch.cuda.is_available() else \"cpu\"\n",
        "classifier = pipeline(\"zero-shot-classification\",\n",
        "                      model=\"MoritzLaurer/mDeBERTa-v3-base-xnli-multilingual-nli-2mil7\",\n",
        "                      device=device)"
      ],
      "metadata": {
        "id": "kokWzGgYf05X"
      },
      "execution_count": null,
      "outputs": []
    },
    {
      "cell_type": "markdown",
      "source": [
        "A função pipeline é usada para criar um classificador de zero-shot passando o nome da tarefa `“zero-shot-classification”`. No exemplo, estamos usando o modelo `“MoritzLaurer/mDeBERTa-v3-base-xnli-multilingual-nli-2mil7\"`. O dispositivo (CPU ou GPU) é especificado com base no valor da variável device.\n",
        "\n",
        "Multilingual - https://huggingface.co/MoritzLaurer/mDeBERTa-v3-base-xnli-multilingual-nli-2mil7\n",
        "\n",
        "Inglês - https://huggingface.co/facebook/bart-large-mnli"
      ],
      "metadata": {
        "id": "INvvQ4ra3Ib3"
      }
    },
    {
      "cell_type": "markdown",
      "source": [
        "Agora o modelo está pronto para fazer inferências! Você precisará do texto que deseja classificar e dos rótulos que deseja que o modelo atribua à sentença (rótulos candidatos). O modelo fornecerá as probabilidades da sequência pertencer a cada rótulo candidato."
      ],
      "metadata": {
        "id": "Pls-rgnU4LsX"
      }
    },
    {
      "cell_type": "markdown",
      "source": [
        "# Realizando a classificação"
      ],
      "metadata": {
        "id": "cbePe4bmzVnp"
      }
    },
    {
      "cell_type": "code",
      "source": [
        "candidate_labels = [\"Política\", \"Negócios\", \"Esportes\", \"Entretenimento\", \"Outros\", \"acidente\", \"problema\", \"engenharia\", \"arquitetura\",\n",
        "                    \"cultura\", \"atividades\", \"cotidiano\", \"negativo\", \"positivo\"]\n",
        "sequences = ['''Casas desabam e muro de condomínio cai após chuvas em São Luís''']\n",
        "\n",
        "results = classifier(sequences, candidate_labels)\n",
        "print(results)\n",
        "\n",
        "# [\n",
        "#    {\n",
        "#       \"sequence\":\"'Vergonhosa página da diplomacia de Israel', diz Mauro Vieira sobre postura israelense após fala de Lula\",\n",
        "#       \"labels\":[\n",
        "#          \"Política\",\n",
        "#          \"Negócios\",\n",
        "#          \"Outros\",\n",
        "#          \"Entretenimento\",\n",
        "#          \"Esportes\"\n",
        "#       ],\n",
        "#       \"scores\":[\n",
        "#          0.529527485370636,\n",
        "#          0.24372632801532745,\n",
        "#          0.13887633383274078,\n",
        "#          0.0627482607960701,\n",
        "#          0.02512160874903202\n",
        "#       ]\n",
        "#    }\n",
        "# ]"
      ],
      "metadata": {
        "colab": {
          "base_uri": "https://localhost:8080/"
        },
        "id": "t27eoISnEf22",
        "outputId": "24d75b9f-0c96-42ab-fb5b-ac8cc494d030"
      },
      "execution_count": null,
      "outputs": [
        {
          "output_type": "stream",
          "name": "stdout",
          "text": [
            "[{'sequence': 'Casas desabam e muro de condomínio cai após chuvas em São Luís', 'labels': ['negativo', 'atividades', 'arquitetura', 'engenharia', 'problema', 'acidente', 'Outros', 'Negócios', 'cultura', 'Política', 'Entretenimento', 'cotidiano', 'Esportes', 'positivo'], 'scores': [0.5184404850006104, 0.15481950342655182, 0.06538498401641846, 0.06215418130159378, 0.04195767268538475, 0.0286422036588192, 0.02455381117761135, 0.024047788232564926, 0.022603077813982964, 0.019015464931726456, 0.015079226344823837, 0.014562963508069515, 0.006390289403498173, 0.0023482623510062695]}]\n"
          ]
        }
      ]
    },
    {
      "cell_type": "code",
      "source": [
        "print(\"Entrada:\", results[0][\"sequence\"])\n",
        "print(\"Rótulo:\", results[0][\"labels\"][0])\n",
        "print(\"Confiança:\", results[0][\"scores\"][0])"
      ],
      "metadata": {
        "colab": {
          "base_uri": "https://localhost:8080/"
        },
        "id": "ppAFSJ8Oxx2a",
        "outputId": "e0a2f2be-7c93-4643-8da1-298dd7a6b9ba"
      },
      "execution_count": null,
      "outputs": [
        {
          "output_type": "stream",
          "name": "stdout",
          "text": [
            "Entrada: Casas desabam e muro de condomínio cai após chuvas em São Luís\n",
            "Rótulo: negativo\n",
            "Confiança: 0.5184404850006104\n"
          ]
        }
      ]
    },
    {
      "cell_type": "markdown",
      "source": [
        "O texto está muito relacionado ao rótulo Política, de acordo com a previsão do modelo, com um escore de confiança de 0,53. O que está correto!\n",
        "\n",
        "Esses escores são probabilidades e somam 1,0, indicando a probabilidade estimada pelo modelo para cada rótulo.\n",
        "\n",
        "Neste resultado, o modelo está mais confiante em sua previsão para Política e menos certo sobre as outras categorias. Isso significa que às vezes o modelo pode ficar confuso se as classes forem similares, mas neste caso, ele acertou."
      ],
      "metadata": {
        "id": "BCzjqG_B4e9b"
      }
    },
    {
      "cell_type": "markdown",
      "source": [
        "# Encapsulando em uma função"
      ],
      "metadata": {
        "id": "S6Dy2Zdb44df"
      }
    },
    {
      "cell_type": "markdown",
      "source": [
        "Pronto, agora a lógica de classificação estará dentro de uma função. Onde a mesma pode ser implementada em APIs em Python (ou em outras linguagens) ou em algum provedor de computação em nuvem para ser consumido como microsserviço!"
      ],
      "metadata": {
        "id": "IQ9wr9Mh5nat"
      }
    },
    {
      "cell_type": "code",
      "source": [
        "def predict_text_label(text, candidate_labels):\n",
        "  \"\"\"\n",
        "  Classifica um texto usando o modelo de classificação zero-shot.\n",
        "\n",
        "  Args:\n",
        "    text: O texto a ser classificado.\n",
        "    candidate_labels: Uma lista de rótulos candidatos.\n",
        "\n",
        "  Returns:\n",
        "    Um dicionário contendo o texto, o rótulo previsto e a confiança da previsão.\n",
        "  \"\"\"\n",
        "\n",
        "  sequences = [text]\n",
        "  results = classifier(sequences, candidate_labels)\n",
        "  predicted_label = results[0][\"labels\"][0]\n",
        "  confidence = results[0][\"scores\"][0]\n",
        "  return {\n",
        "      \"text\": text,\n",
        "      \"predicted_label\": predicted_label,\n",
        "      \"confidence\": confidence\n",
        "  }\n"
      ],
      "metadata": {
        "id": "fvQMxCbVy5Qm"
      },
      "execution_count": null,
      "outputs": []
    },
    {
      "cell_type": "code",
      "source": [
        "predict_text_label(sequences[0], candidate_labels)"
      ],
      "metadata": {
        "colab": {
          "base_uri": "https://localhost:8080/"
        },
        "id": "n8rgpWzB0a_9",
        "outputId": "2821a942-29e0-499c-eb4f-5e500480d843"
      },
      "execution_count": null,
      "outputs": [
        {
          "output_type": "execute_result",
          "data": {
            "text/plain": [
              "{'text': 'Casas desabam e muro de condomínio cai após chuvas em São Luís',\n",
              " 'predicted_label': 'desastres',\n",
              " 'confidence': 0.9582889676094055}"
            ]
          },
          "metadata": {},
          "execution_count": 20
        }
      ]
    },
    {
      "cell_type": "markdown",
      "source": [
        "Você pode ler mais sobre esse conteúdo em: https://medium.com/wearesinch/easy-text-classification-using-minimal-code-and-ai-d1a85ae0f321"
      ],
      "metadata": {
        "id": "8QSBN-4U_nML"
      }
    }
  ]
}
